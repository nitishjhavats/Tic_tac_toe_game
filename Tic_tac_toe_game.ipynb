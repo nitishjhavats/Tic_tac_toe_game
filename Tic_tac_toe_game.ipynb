{
  "nbformat": 4,
  "nbformat_minor": 0,
  "metadata": {
    "colab": {
      "provenance": [],
      "authorship_tag": "ABX9TyMGoFhb3YePX10AFLmcJfQt",
      "include_colab_link": true
    },
    "kernelspec": {
      "name": "python3",
      "display_name": "Python 3"
    },
    "language_info": {
      "name": "python"
    }
  },
  "cells": [
    {
      "cell_type": "markdown",
      "metadata": {
        "id": "view-in-github",
        "colab_type": "text"
      },
      "source": [
        "<a href=\"https://colab.research.google.com/github/nitishjhavats/Tic_tac_toe_game/blob/main/Tic_tac_toe_game.ipynb\" target=\"_parent\"><img src=\"https://colab.research.google.com/assets/colab-badge.svg\" alt=\"Open In Colab\"/></a>"
      ]
    },
    {
      "cell_type": "code",
      "execution_count": null,
      "metadata": {
        "id": "cJU8WdTFzV0E"
      },
      "outputs": [],
      "source": []
    },
    {
      "source": [
        "def print_board(board):\n",
        "    for row in board:\n",
        "        print(\" | \".join(row))\n",
        "        print(\"-\" * 9)\n",
        "\n",
        "def check_win(board, player):\n",
        "    for row in board:\n",
        "        if all(cell == player for cell in row):\n",
        "            return True\n",
        "    for col in range(3):\n",
        "        if all(board[row][col] == player for row in range(3)):\n",
        "            return True\n",
        "    if (board[0][0] == player and board[1][1] == player and board[2][2] == player) or \\\n",
        "       (board[0][2] == player and board[1][1] == player and board[2][0] == player):\n",
        "        return True\n",
        "    return False\n",
        "\n",
        "def is_board_full(board):\n",
        "    for row in board:\n",
        "        for cell in row:\n",
        "            if cell == ' ':\n",
        "                return False\n",
        "    return True\n",
        "\n",
        "def play_tic_tac_toe():\n",
        "    board = [[' ' for _ in range(3)] for _ in range(3)]\n",
        "    current_player = 'X'\n",
        "\n",
        "    while True:\n",
        "        print_board(board)\n",
        "        print(f\"Player {current_player}'s turn.\")\n",
        "\n",
        "        row = int(input(\"Enter row (0, 1, or 2): \"))\n",
        "        col = int(input(\"Enter column (0, 1, or 2): \"))\n",
        "\n",
        "        if board[row][col] == ' ':\n",
        "            board[row][col] = current_player\n",
        "\n",
        "            if check_win(board, current_player):\n",
        "                print_board(board)\n",
        "                print(f\"Player {current_player} wins!\")\n",
        "                break\n",
        "            elif is_board_full(board):\n",
        "                print_board(board)\n",
        "                print(\"It's a tie!\")\n",
        "                break\n",
        "\n",
        "            current_player = 'O' if current_player == 'X' else 'X'\n",
        "        else:\n",
        "            print(\"That spot is already taken. Try again.\")\n",
        "\n",
        "if __name__ == \"__main__\":\n",
        "    play_tic_tac_toe()"
      ],
      "cell_type": "code",
      "metadata": {
        "colab": {
          "base_uri": "https://localhost:8080/"
        },
        "id": "Bt68G9CBzjRE",
        "outputId": "9daef2a8-f849-453c-ac60-c8c4d9c0b336"
      },
      "execution_count": null,
      "outputs": [
        {
          "output_type": "stream",
          "name": "stdout",
          "text": [
            "  |   |  \n",
            "---------\n",
            "  |   |  \n",
            "---------\n",
            "  |   |  \n",
            "---------\n",
            "Player X's turn.\n",
            "Enter row (0, 1, or 2): 1\n",
            "Enter column (0, 1, or 2): 1\n",
            "  |   |  \n",
            "---------\n",
            "  | X |  \n",
            "---------\n",
            "  |   |  \n",
            "---------\n",
            "Player O's turn.\n",
            "Enter row (0, 1, or 2): 2\n",
            "Enter column (0, 1, or 2): 0\n",
            "  |   |  \n",
            "---------\n",
            "  | X |  \n",
            "---------\n",
            "O |   |  \n",
            "---------\n",
            "Player X's turn.\n",
            "Enter row (0, 1, or 2): 0\n",
            "Enter column (0, 1, or 2): 0\n",
            "X |   |  \n",
            "---------\n",
            "  | X |  \n",
            "---------\n",
            "O |   |  \n",
            "---------\n",
            "Player O's turn.\n",
            "Enter row (0, 1, or 2): 2\n",
            "Enter column (0, 1, or 2): 2\n",
            "X |   |  \n",
            "---------\n",
            "  | X |  \n",
            "---------\n",
            "O |   | O\n",
            "---------\n",
            "Player X's turn.\n",
            "Enter row (0, 1, or 2): 0\n",
            "Enter column (0, 1, or 2): 1\n",
            "X | X |  \n",
            "---------\n",
            "  | X |  \n",
            "---------\n",
            "O |   | O\n",
            "---------\n",
            "Player O's turn.\n",
            "Enter row (0, 1, or 2): 2\n",
            "Enter column (0, 1, or 2): 1\n",
            "X | X |  \n",
            "---------\n",
            "  | X |  \n",
            "---------\n",
            "O | O | O\n",
            "---------\n",
            "Player O wins!\n"
          ]
        }
      ]
    }
  ]
}